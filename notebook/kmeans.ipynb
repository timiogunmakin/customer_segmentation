{
 "cells": [
  {
   "cell_type": "code",
   "execution_count": 30,
   "id": "094cb573-f35a-4978-8193-da8f28126ba1",
   "metadata": {},
   "outputs": [],
   "source": [
    "import pandas as pd\n",
    "import numpy as np\n",
    "import matplotlib.pyplot as plt\n",
    "import seaborn as sns"
   ]
  },
  {
   "cell_type": "code",
   "execution_count": 31,
   "id": "c8c6a14b-9279-47e9-9ac0-5ef49ee01601",
   "metadata": {},
   "outputs": [],
   "source": [
    "rfm_normalized = pd.read_csv(\"../data/datamart_normalized_df.csv\")\n",
    "rfm_normalized = rfm_normalized.set_index('CustomerID')"
   ]
  },
  {
   "cell_type": "code",
   "execution_count": 32,
   "id": "df30c23e-6413-4836-b6b7-9d0e6b03ba7d",
   "metadata": {},
   "outputs": [],
   "source": [
    "rfm = pd.read_csv(\"../data/rfm_datamart.csv\")\n",
    "rfm = rfm.set_index('CustomerID')"
   ]
  },
  {
   "cell_type": "code",
   "execution_count": 29,
   "id": "a1709f2a-5403-43ec-9b61-8886daab1e4c",
   "metadata": {},
   "outputs": [
    {
     "data": {
      "text/html": [
       "<div>\n",
       "<style scoped>\n",
       "    .dataframe tbody tr th:only-of-type {\n",
       "        vertical-align: middle;\n",
       "    }\n",
       "\n",
       "    .dataframe tbody tr th {\n",
       "        vertical-align: top;\n",
       "    }\n",
       "\n",
       "    .dataframe thead th {\n",
       "        text-align: right;\n",
       "    }\n",
       "</style>\n",
       "<table border=\"1\" class=\"dataframe\">\n",
       "  <thead>\n",
       "    <tr style=\"text-align: right;\">\n",
       "      <th></th>\n",
       "      <th>Recency</th>\n",
       "      <th>Frequency</th>\n",
       "      <th>MonetaryValue</th>\n",
       "    </tr>\n",
       "  </thead>\n",
       "  <tbody>\n",
       "    <tr>\n",
       "      <th>count</th>\n",
       "      <td>3.643000e+03</td>\n",
       "      <td>3.643000e+03</td>\n",
       "      <td>3.643000e+03</td>\n",
       "    </tr>\n",
       "    <tr>\n",
       "      <th>mean</th>\n",
       "      <td>-2.718225e-17</td>\n",
       "      <td>1.711962e-16</td>\n",
       "      <td>3.458057e-16</td>\n",
       "    </tr>\n",
       "    <tr>\n",
       "      <th>std</th>\n",
       "      <td>1.000137e+00</td>\n",
       "      <td>1.000137e+00</td>\n",
       "      <td>1.000137e+00</td>\n",
       "    </tr>\n",
       "    <tr>\n",
       "      <th>min</th>\n",
       "      <td>-2.814518e+00</td>\n",
       "      <td>-1.794731e+00</td>\n",
       "      <td>-4.093550e+00</td>\n",
       "    </tr>\n",
       "    <tr>\n",
       "      <th>25%</th>\n",
       "      <td>-6.373949e-01</td>\n",
       "      <td>-6.491795e-01</td>\n",
       "      <td>-6.579180e-01</td>\n",
       "    </tr>\n",
       "    <tr>\n",
       "      <th>50%</th>\n",
       "      <td>9.268036e-02</td>\n",
       "      <td>2.092505e-02</td>\n",
       "      <td>-1.489805e-02</td>\n",
       "    </tr>\n",
       "    <tr>\n",
       "      <th>75%</th>\n",
       "      <td>8.340401e-01</td>\n",
       "      <td>7.210817e-01</td>\n",
       "      <td>6.692948e-01</td>\n",
       "    </tr>\n",
       "    <tr>\n",
       "      <th>max</th>\n",
       "      <td>1.547876e+00</td>\n",
       "      <td>4.246826e+00</td>\n",
       "      <td>4.459466e+00</td>\n",
       "    </tr>\n",
       "  </tbody>\n",
       "</table>\n",
       "</div>"
      ],
      "text/plain": [
       "            Recency     Frequency  MonetaryValue\n",
       "count  3.643000e+03  3.643000e+03   3.643000e+03\n",
       "mean  -2.718225e-17  1.711962e-16   3.458057e-16\n",
       "std    1.000137e+00  1.000137e+00   1.000137e+00\n",
       "min   -2.814518e+00 -1.794731e+00  -4.093550e+00\n",
       "25%   -6.373949e-01 -6.491795e-01  -6.579180e-01\n",
       "50%    9.268036e-02  2.092505e-02  -1.489805e-02\n",
       "75%    8.340401e-01  7.210817e-01   6.692948e-01\n",
       "max    1.547876e+00  4.246826e+00   4.459466e+00"
      ]
     },
     "execution_count": 29,
     "metadata": {},
     "output_type": "execute_result"
    }
   ],
   "source": [
    "rfm_normalized.describe()"
   ]
  },
  {
   "cell_type": "code",
   "execution_count": 33,
   "id": "09ebfa71-24ad-4140-9597-959d8c2e59b5",
   "metadata": {},
   "outputs": [
    {
     "data": {
      "text/html": [
       "<div>\n",
       "<style scoped>\n",
       "    .dataframe tbody tr th:only-of-type {\n",
       "        vertical-align: middle;\n",
       "    }\n",
       "\n",
       "    .dataframe tbody tr th {\n",
       "        vertical-align: top;\n",
       "    }\n",
       "\n",
       "    .dataframe thead th {\n",
       "        text-align: right;\n",
       "    }\n",
       "</style>\n",
       "<table border=\"1\" class=\"dataframe\">\n",
       "  <thead>\n",
       "    <tr style=\"text-align: right;\">\n",
       "      <th></th>\n",
       "      <th>Recency</th>\n",
       "      <th>Frequency</th>\n",
       "      <th>MonetaryValue</th>\n",
       "    </tr>\n",
       "  </thead>\n",
       "  <tbody>\n",
       "    <tr>\n",
       "      <th>count</th>\n",
       "      <td>3643.00000</td>\n",
       "      <td>3643.000000</td>\n",
       "      <td>3643.000000</td>\n",
       "    </tr>\n",
       "    <tr>\n",
       "      <th>mean</th>\n",
       "      <td>90.43563</td>\n",
       "      <td>18.714247</td>\n",
       "      <td>370.694387</td>\n",
       "    </tr>\n",
       "    <tr>\n",
       "      <th>std</th>\n",
       "      <td>94.44651</td>\n",
       "      <td>43.754468</td>\n",
       "      <td>1347.443451</td>\n",
       "    </tr>\n",
       "    <tr>\n",
       "      <th>min</th>\n",
       "      <td>1.00000</td>\n",
       "      <td>1.000000</td>\n",
       "      <td>0.650000</td>\n",
       "    </tr>\n",
       "    <tr>\n",
       "      <th>25%</th>\n",
       "      <td>19.00000</td>\n",
       "      <td>4.000000</td>\n",
       "      <td>58.705000</td>\n",
       "    </tr>\n",
       "    <tr>\n",
       "      <th>50%</th>\n",
       "      <td>51.00000</td>\n",
       "      <td>9.000000</td>\n",
       "      <td>136.370000</td>\n",
       "    </tr>\n",
       "    <tr>\n",
       "      <th>75%</th>\n",
       "      <td>139.00000</td>\n",
       "      <td>21.000000</td>\n",
       "      <td>334.350000</td>\n",
       "    </tr>\n",
       "    <tr>\n",
       "      <th>max</th>\n",
       "      <td>365.00000</td>\n",
       "      <td>1497.000000</td>\n",
       "      <td>48060.350000</td>\n",
       "    </tr>\n",
       "  </tbody>\n",
       "</table>\n",
       "</div>"
      ],
      "text/plain": [
       "          Recency    Frequency  MonetaryValue\n",
       "count  3643.00000  3643.000000    3643.000000\n",
       "mean     90.43563    18.714247     370.694387\n",
       "std      94.44651    43.754468    1347.443451\n",
       "min       1.00000     1.000000       0.650000\n",
       "25%      19.00000     4.000000      58.705000\n",
       "50%      51.00000     9.000000     136.370000\n",
       "75%     139.00000    21.000000     334.350000\n",
       "max     365.00000  1497.000000   48060.350000"
      ]
     },
     "execution_count": 33,
     "metadata": {},
     "output_type": "execute_result"
    }
   ],
   "source": [
    "rfm.describe()"
   ]
  },
  {
   "cell_type": "code",
   "execution_count": 34,
   "id": "f194b95b-cb6d-4e63-b279-913e8d7b84d2",
   "metadata": {},
   "outputs": [
    {
     "name": "stderr",
     "output_type": "stream",
     "text": [
      "/opt/anaconda3/lib/python3.9/site-packages/seaborn/distributions.py:2619: FutureWarning: `distplot` is a deprecated function and will be removed in a future version. Please adapt your code to use either `displot` (a figure-level function with similar flexibility) or `histplot` (an axes-level function for histograms).\n",
      "  warnings.warn(msg, FutureWarning)\n",
      "/opt/anaconda3/lib/python3.9/site-packages/seaborn/distributions.py:2619: FutureWarning: `distplot` is a deprecated function and will be removed in a future version. Please adapt your code to use either `displot` (a figure-level function with similar flexibility) or `histplot` (an axes-level function for histograms).\n",
      "  warnings.warn(msg, FutureWarning)\n",
      "/opt/anaconda3/lib/python3.9/site-packages/seaborn/distributions.py:2619: FutureWarning: `distplot` is a deprecated function and will be removed in a future version. Please adapt your code to use either `displot` (a figure-level function with similar flexibility) or `histplot` (an axes-level function for histograms).\n",
      "  warnings.warn(msg, FutureWarning)\n"
     ]
    },
    {
     "data": {
      "text/plain": [
       "<AxesSubplot:xlabel='MonetaryValue', ylabel='Density'>"
      ]
     },
     "execution_count": 34,
     "metadata": {},
     "output_type": "execute_result"
    },
    {
     "data": {
      "image/png": "[encoded data removed]",
      "text/plain": [
       "<Figure size 432x288 with 3 Axes>"
      ]
     },
     "metadata": {
      "needs_background": "light"
     },
     "output_type": "display_data"
    }
   ],
   "source": [
    "#Visualize Normalized Variables\n",
    "plt.subplot(3,1,1); sns.distplot(rfm_normalized['Recency'])\n",
    "plt.subplot(3,1,2); sns.distplot(rfm_normalized['Frequency'])\n",
    "plt.subplot(3,1,3); sns.distplot(rfm_normalized['MonetaryValue'])"
   ]
  },
  {
   "cell_type": "code",
   "execution_count": 35,
   "id": "6860c00c-a49d-4051-90fd-41952bded31c",
   "metadata": {},
   "outputs": [],
   "source": [
    "from sklearn.cluster import KMeans"
   ]
  },
  {
   "cell_type": "code",
   "execution_count": 36,
   "id": "7b458109-62d8-4657-9398-6ec44dd119db",
   "metadata": {},
   "outputs": [],
   "source": [
    "sse = {}\n",
    "for k in range(1, 21):\n",
    "  \n",
    "    # Initialize KMeans with k clusters\n",
    "    kmeans = KMeans(n_clusters=k, random_state=1)\n",
    "    \n",
    "    # Fit KMeans on the normalized dataset\n",
    "    kmeans.fit(rfm_normalized)\n",
    "    \n",
    "    # Assign sum of squared distances to k element of dictionary\n",
    "    sse[k] = kmeans.inertia_"
   ]
  },
  {
   "cell_type": "code",
   "execution_count": 37,
   "id": "7e31905c-cfa7-4d96-a0fd-0b4b13f6aec3",
   "metadata": {},
   "outputs": [
    {
     "data": {
      "image/png": "[encoded data removed]",
      "text/plain": [
       "<Figure size 432x288 with 1 Axes>"
      ]
     },
     "metadata": {
      "needs_background": "light"
     },
     "output_type": "display_data"
    }
   ],
   "source": [
    "# Add the plot title \"The Elbow Method\"\n",
    "plt.title('The Elbow Method')\n",
    "\n",
    "# Add X-axis label \"k\"\n",
    "plt.xlabel('k')\n",
    "\n",
    "# Add Y-axis label \"SSE\"\n",
    "plt.ylabel('SSE')\n",
    "\n",
    "# Plot SSE values for each key in the dictionary\n",
    "sns.pointplot(x=list(sse.keys()), y=list(sse.values()))\n",
    "plt.show()"
   ]
  },
  {
   "cell_type": "code",
   "execution_count": 42,
   "id": "b0a7cd00-da78-4987-8416-2ce4c073bd33",
   "metadata": {},
   "outputs": [
    {
     "data": {
      "text/plain": [
       "KMeans(n_clusters=3, random_state=1)"
      ]
     },
     "execution_count": 42,
     "metadata": {},
     "output_type": "execute_result"
    }
   ],
   "source": [
    "# Initialize KMeans with 3 clusters\n",
    "kmeans = KMeans(n_clusters=3, random_state=1)\n",
    "    \n",
    "# Fit KMeans on the normalized dataset\n",
    "kmeans.fit(rfm_normalized)"
   ]
  },
  {
   "cell_type": "code",
   "execution_count": 43,
   "id": "5763a46b-f2e9-40e2-862f-d0a452222b47",
   "metadata": {},
   "outputs": [],
   "source": [
    "cluster_labels = kmeans.labels_"
   ]
  },
  {
   "cell_type": "code",
   "execution_count": 44,
   "id": "3d6158a1-800e-4f09-b24e-5ad960f66374",
   "metadata": {},
   "outputs": [],
   "source": [
    "rfm_k3 = rfm.assign(Cluster=cluster_labels)"
   ]
  },
  {
   "cell_type": "code",
   "execution_count": 45,
   "id": "a7035c25-bab2-4744-9eca-600b1b0bda3d",
   "metadata": {},
   "outputs": [],
   "source": [
    "grouped = rfm_k3.groupby(['Cluster'])"
   ]
  },
  {
   "cell_type": "code",
   "execution_count": 46,
   "id": "4862b1eb-bb26-4f35-b972-61c6252cf342",
   "metadata": {},
   "outputs": [
    {
     "data": {
      "text/html": [
       "<div>\n",
       "<style scoped>\n",
       "    .dataframe tbody tr th:only-of-type {\n",
       "        vertical-align: middle;\n",
       "    }\n",
       "\n",
       "    .dataframe tbody tr th {\n",
       "        vertical-align: top;\n",
       "    }\n",
       "\n",
       "    .dataframe thead tr th {\n",
       "        text-align: left;\n",
       "    }\n",
       "\n",
       "    .dataframe thead tr:last-of-type th {\n",
       "        text-align: right;\n",
       "    }\n",
       "</style>\n",
       "<table border=\"1\" class=\"dataframe\">\n",
       "  <thead>\n",
       "    <tr>\n",
       "      <th></th>\n",
       "      <th>Recency</th>\n",
       "      <th>Frequency</th>\n",
       "      <th colspan=\"2\" halign=\"left\">MonetaryValue</th>\n",
       "    </tr>\n",
       "    <tr>\n",
       "      <th></th>\n",
       "      <th>mean</th>\n",
       "      <th>mean</th>\n",
       "      <th>mean</th>\n",
       "      <th>count</th>\n",
       "    </tr>\n",
       "    <tr>\n",
       "      <th>Cluster</th>\n",
       "      <th></th>\n",
       "      <th></th>\n",
       "      <th></th>\n",
       "      <th></th>\n",
       "    </tr>\n",
       "  </thead>\n",
       "  <tbody>\n",
       "    <tr>\n",
       "      <th>0</th>\n",
       "      <td>16.1</td>\n",
       "      <td>50.1</td>\n",
       "      <td>1050.6</td>\n",
       "      <td>901</td>\n",
       "    </tr>\n",
       "    <tr>\n",
       "      <th>1</th>\n",
       "      <td>166.6</td>\n",
       "      <td>3.0</td>\n",
       "      <td>53.0</td>\n",
       "      <td>1156</td>\n",
       "    </tr>\n",
       "    <tr>\n",
       "      <th>2</th>\n",
       "      <td>77.1</td>\n",
       "      <td>12.3</td>\n",
       "      <td>216.0</td>\n",
       "      <td>1586</td>\n",
       "    </tr>\n",
       "  </tbody>\n",
       "</table>\n",
       "</div>"
      ],
      "text/plain": [
       "        Recency Frequency MonetaryValue      \n",
       "           mean      mean          mean count\n",
       "Cluster                                      \n",
       "0          16.1      50.1        1050.6   901\n",
       "1         166.6       3.0          53.0  1156\n",
       "2          77.1      12.3         216.0  1586"
      ]
     },
     "execution_count": 46,
     "metadata": {},
     "output_type": "execute_result"
    }
   ],
   "source": [
    "# Calculate average RFM values and segment sizes per cluster value\n",
    "grouped.agg({\n",
    "    'Recency': 'mean',\n",
    "    'Frequency': 'mean',\n",
    "    'MonetaryValue': ['mean', 'count']\n",
    "  }).round(1)"
   ]
  },
  {
   "cell_type": "code",
   "execution_count": 48,
   "id": "6674edc5-38d7-43b3-95df-29cc86bd6525",
   "metadata": {},
   "outputs": [],
   "source": [
    "#transform datamart_normalized as DataFrame and add a Cluster column\n",
    "rfm_normalized = pd.DataFrame(rfm_normalized,\n",
    "                                   index = rfm.index,\n",
    "                                   columns = rfm.columns)\n",
    "rfm_normalized['Cluster'] = rfm_k3['Cluster']"
   ]
  },
  {
   "cell_type": "code",
   "execution_count": 49,
   "id": "2536fbbb-8412-4b97-b9b9-dcf711962a3f",
   "metadata": {},
   "outputs": [],
   "source": [
    "# Melt the normalized dataset and reset the index\n",
    "rfm_melt = pd.melt(\n",
    "  \t\t\t\t\trfm_normalized.reset_index(), \n",
    "                        \n",
    "# Assign CustomerID and Cluster as ID variables\n",
    "                    id_vars=['CustomerID', 'Cluster'],\n",
    "\n",
    "# Assign RFM values as value variables\n",
    "                    value_vars=['Recency', 'Frequency', 'MonetaryValue'], \n",
    "                        \n",
    "# Name the variable and value\n",
    "                    var_name='Attribute', value_name='Value'\n",
    "\t\t\t\t\t)"
   ]
  },
  {
   "cell_type": "code",
   "execution_count": 50,
   "id": "31a9a14a-6e8e-46c1-8e35-77696d02b000",
   "metadata": {},
   "outputs": [
    {
     "data": {
      "image/png": "[encoded data removed]",
      "text/plain": [
       "<Figure size 432x288 with 1 Axes>"
      ]
     },
     "metadata": {
      "needs_background": "light"
     },
     "output_type": "display_data"
    }
   ],
   "source": [
    "# Add the plot title\n",
    "plt.title('Snake plot of normalized variables')\n",
    "\n",
    "# Add the x axis label\n",
    "plt.xlabel('Metric')\n",
    "\n",
    "# Add the y axis label\n",
    "plt.ylabel('Value')\n",
    "\n",
    "# Plot a line for each value of the cluster variable\n",
    "sns.lineplot(data=rfm_melt, x='Attribute', y='Value', hue='Cluster')\n",
    "plt.show()"
   ]
  },
  {
   "cell_type": "code",
   "execution_count": 51,
   "id": "2c19ba12-5fa3-43f7-b2fb-1b01acd24bd3",
   "metadata": {},
   "outputs": [
    {
     "name": "stdout",
     "output_type": "stream",
     "text": [
      "         Recency  Frequency  MonetaryValue\n",
      "Cluster                                   \n",
      "0          -0.82       1.68           1.83\n",
      "1           0.84      -0.84          -0.86\n",
      "2          -0.15      -0.34          -0.42\n"
     ]
    }
   ],
   "source": [
    "cluster_avg = rfm_k3.groupby(['Cluster']).mean()\n",
    "population_avg = rfm.mean()\n",
    "relative_imp = cluster_avg / population_avg - 1\n",
    "print(relative_imp.round(2))"
   ]
  },
  {
   "cell_type": "code",
   "execution_count": 52,
   "id": "802da27f-087e-4b75-9d3a-a8e41e199a6b",
   "metadata": {},
   "outputs": [
    {
     "data": {
      "image/png": "[encoded data removed]",
      "text/plain": [
       "<Figure size 576x144 with 2 Axes>"
      ]
     },
     "metadata": {
      "needs_background": "light"
     },
     "output_type": "display_data"
    }
   ],
   "source": [
    "plt.figure(figsize = (8,2))\n",
    "plt.title('Relative importance of attributes')\n",
    "sns.heatmap(data = relative_imp, annot = True, fmt = '.2f', cmap = 'RdYlGn')\n",
    "plt.show()"
   ]
  }
 ],
 "metadata": {
  "kernelspec": {
   "display_name": "Python 3.9.7 64-bit ('base': conda)",
   "language": "python",
   "name": "python397jvsc74a57bd040d3a090f54c6569ab1632332b64b2c03c39dcf918b08424e98f38b5ae0af88f"
  },
  "language_info": {
   "codemirror_mode": {
    "name": "ipython",
    "version": 3
   },
   "file_extension": ".py",
   "mimetype": "text/x-python",
   "name": "python",
   "nbconvert_exporter": "python",
   "pygments_lexer": "ipython3",
   "version": "3.9.7"
  }
 },
 "nbformat": 4,
 "nbformat_minor": 5
}
